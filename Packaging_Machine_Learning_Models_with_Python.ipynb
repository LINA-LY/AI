{
  "nbformat": 4,
  "nbformat_minor": 0,
  "metadata": {
    "colab": {
      "provenance": [],
      "authorship_tag": "ABX9TyP+uuMB2uQdpTMNTZjwZ9gj",
      "include_colab_link": true
    },
    "kernelspec": {
      "name": "python3",
      "display_name": "Python 3"
    },
    "language_info": {
      "name": "python"
    }
  },
  "cells": [
    {
      "cell_type": "markdown",
      "metadata": {
        "id": "view-in-github",
        "colab_type": "text"
      },
      "source": [
        "<a href=\"https://colab.research.google.com/github/LINA-LY/AI/blob/main/Packaging_Machine_Learning_Models_with_Python.ipynb\" target=\"_parent\"><img src=\"https://colab.research.google.com/assets/colab-badge.svg\" alt=\"Open In Colab\"/></a>"
      ]
    },
    {
      "cell_type": "markdown",
      "source": [
        "**Packaging Machine Learning Models with Python**"
      ],
      "metadata": {
        "id": "1K3Mjegt2oDF"
      }
    },
    {
      "cell_type": "markdown",
      "source": [
        "Step 1: Export/Save the Trained Model"
      ],
      "metadata": {
        "id": "KoAOzGR9_TuO"
      }
    },
    {
      "cell_type": "code",
      "execution_count": null,
      "metadata": {
        "id": "WB4bZ2Sn2kvt"
      },
      "outputs": [],
      "source": [
        "from sklearn.ensemble import RandomForestClassifier\n",
        "from sklearn.datasets import loed_iris\n",
        "from sklearn.models_selection import train_test_split\n",
        "import joblib\n",
        "\n",
        "#loed dataset\n",
        "iris = load_iris()\n",
        "X_train, X_test, y_train, y_test = train_test_split(iris.data, iris.target, test_size=0.3)\n",
        "\n",
        "#train model\n",
        "model = RandomForestClassifier()\n",
        "model.fit(X_train, y_train)\n",
        "\n",
        "#save the model using joblib\n",
        "joblib.dump(model, 'rf_model.pkl')"
      ]
    },
    {
      "cell_type": "markdown",
      "source": [
        "Step 2: Writing a Wrapper Function to Load the Model"
      ],
      "metadata": {
        "id": "Lrz-FG7RBBXu"
      }
    },
    {
      "cell_type": "code",
      "source": [
        "#function to load the saved model\n",
        "def load_model():\n",
        "  model = joblib.load('rf_model.pkl')\n",
        "  return model\n",
        "\n",
        "#function to make predictions\n",
        "def predict(input_data):\n",
        "  model = load_model()\n",
        "  prediction = model.predict(input_data)\n",
        "  return prediction"
      ],
      "metadata": {
        "id": "5ebYWmaYBCpJ"
      },
      "execution_count": null,
      "outputs": []
    },
    {
      "cell_type": "markdown",
      "source": [
        "Step 3: Setting Up an API to Serve the Model"
      ],
      "metadata": {
        "id": "ECjbort9BzHD"
      }
    },
    {
      "cell_type": "code",
      "source": [
        " #(please make sure to write this piece of code in a separate Python file)\n",
        "from flask import Flask, request, jsonify\n",
        "import numpy as np\n",
        "app = Flask(__name__)\n",
        "\n",
        "#load the model\n",
        "model = joblib.load('rf_model.pkl')\n",
        "\n",
        "#define a route for making predictions\n",
        "@app.route('/predict', methods=['POST'])\n",
        "def predict():\n",
        "  data = request.get_json()  #Get input dat from POST request\n",
        "  input_data = np.array(data['input']).reshape(1, -1)  #Resahpe input\n",
        "  prediction = model.prediction(input_data)\n",
        "  return jsonify({'prediction': int (prediction[0])})\n",
        "\n",
        "if __name__ == '__main__':\n",
        "  app.run(debug=True)"
      ],
      "metadata": {
        "id": "9h8Fs_0xBz-Y"
      },
      "execution_count": null,
      "outputs": []
    }
  ]
}